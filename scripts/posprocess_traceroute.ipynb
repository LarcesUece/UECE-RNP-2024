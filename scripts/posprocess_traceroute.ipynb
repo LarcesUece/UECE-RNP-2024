{
 "cells": [
  {
   "cell_type": "code",
   "execution_count": 46,
   "metadata": {},
   "outputs": [],
   "source": [
    "import pandas as pd\n",
    "import numpy as np\n",
    "import re\n",
    "import os "
   ]
  },
  {
   "cell_type": "code",
   "execution_count": 47,
   "metadata": {},
   "outputs": [],
   "source": [
    "#criar dicionario com os megabits\n",
    "links = {'300': ['pr-sp', 'sp-pr'], '200':['rj-sp', 'sp-rj', 'sp-ce', 'ce-sp', 'pr-rs', 'rs-pr'], '100':['am-ap', 'ap-am', 'ap-pa', 'pa-ap', 'pa-to', 'to-pa', 'to-df', 'df-to', 'df-ma', 'ma-df', 'ma-pi', 'pi-ma', 'pi-ce', 'ce-pi', 'pi-ba', 'ba-pi', 'pb-ba', 'ba-ce', 'ce-ba', 'ce-rn', 'rn-ce', 'rn-pb', 'pb-rn', 'pe-pb', 'pb-pe', 'pe-al', 'al-pe', 'al-se', 'se-al', 'se-ba', 'ba-se', 'ba-df', 'df-ba', 'ba-es', 'es-ba', 'ba-mg', 'mg-ba', 'mg-sp', 'sp-mg', 'df-rj', 'rj-df', 'es-rj', 'rj-es', 'df-mt', 'mt-df', 'mt-ro', 'ro-mt', 'mt-ms', 'ms-mt', 'sp-rs', 'rs-sp', 'rs-sc', 'sc-rs', 'sc-pr', 'pr-sc'], '40':['pb-ba', 'ba-pb'], '20':['df-sp', 'sp-df', 'mg-rj', 'rj-mg'], '10':['pr-ms', 'ms-pr', 'ms-go', 'go-ms', 'go-mt', 'mt-go', 'go-df', 'df-go', 'df-ce', 'ce-df', 'sp-pa', 'pa-sp', 'df-mg', 'mg-df', 'mg-es', 'es-mg'], '6':['ro-ac', 'ac-ro'], '3':['rs-pr', 'pr-rs', 'sp-rj', 'rj-sp', 'sp-se', 'ce-sp'], '1':['am-rr', 'rr-am', 'rr-ce', 'ce-rr']}"
   ]
  },
  {
   "cell_type": "code",
   "execution_count": 48,
   "metadata": {},
   "outputs": [],
   "source": [
    "#df = pd.read_csv('../datasets/alterados/saida/bbr/traceroute da vazao pr-ce.csv')\n",
    "#1) quantidade de saltos \n",
    "def contar_ocorrencias(row):\n",
    "        ocorrencias = row.astype(str).str.contains('bkb.rnp.br|No Hostname|pop').sum() #bkb.rnp.br\n",
    "        return ocorrencias\n",
    "\n",
    "#aplica a função: \n",
    "#df['Hop_count'] = df.apply(contar_ocorrencias, axis=1)\n",
    "\n",
    "#2)limpeza para encontrar os links \n",
    "def substituir_prefixo(df):\n",
    "        def processar_celula(valor):\n",
    "            if isinstance(valor, str):\n",
    "                if '.bkb.rnp.br' in valor:\n",
    "                    prefixo = valor.split('.')[0].split('-')\n",
    "                    prefixo = prefixo[0] + '-' + prefixo[1]\n",
    "                    # Remover números e substrings 'lan' e 'mx'\n",
    "                    prefixo = re.sub(r'\\d+|lan|mx', '', prefixo)\n",
    "                    # Dividir a string no hífen\n",
    "                    partes = prefixo.split('-')\n",
    "                    # Verificar e ajustar a primeira parte\n",
    "                    if len(partes) > 0 and len(partes[0]) == 3:\n",
    "                        partes[0] = partes[0][1:]  # Remover o primeiro caractere da primeira parte\n",
    "                    # Verificar e ajustar a segunda parte\n",
    "                    if len(partes) > 1 and len(partes[1]) == 3:\n",
    "                        partes[1] = partes[1][1:]  # Remover o primeiro caractere da segunda parte\n",
    "                    return '-'.join(partes)\n",
    "                else:\n",
    "                    return np.nan\n",
    "            else:\n",
    "                return np.nan\n",
    "        df.iloc[:, 2:-2] = df.iloc[:, 2:-2].map(processar_celula)\n",
    "        return df\n",
    "#aplicar a função\n",
    "#df = substituir_prefixo(df)\n",
    "\n",
    "\n",
    "#3) verificar o link com menor velocidade:\n",
    "def obter_menor_chave(linha, links):\n",
    "    chaves_encontradas = []\n",
    "    links_gargalo = []\n",
    "    \n",
    "    for link in linha:\n",
    "        for chave, valores in links.items():\n",
    "            if link in valores:\n",
    "                chaves_encontradas.append(int(chave))\n",
    "                links_gargalo.append(link)\n",
    "    \n",
    "    # Retornar a menor chave e o link correspondente, ou NaN se nenhum for encontrado\n",
    "    if chaves_encontradas:\n",
    "        menor_chave = min(chaves_encontradas)\n",
    "        indice_menor = chaves_encontradas.index(menor_chave)\n",
    "        link_gargalo = links_gargalo[indice_menor]\n",
    "        return menor_chave, link_gargalo\n",
    "    else:\n",
    "        return np.nan, np.nan\n",
    "    \n",
    "    \n",
    "def aplicar_bottleneck(df, links):\n",
    "    df[['Bottleneck', 'Link_bottleneck']] = df.apply(lambda linha: obter_menor_chave(linha, links), axis=1, result_type='expand')\n",
    "    return df\n",
    "#aplicar a função\n",
    "#df = aplicar_bottleneck(df, links)\n",
    "\n",
    "#4) renomear colunas\n",
    "def renomear_coluna(df):\n",
    "     df = df.rename(columns = {'0':'Timestamp'})\n",
    "     df = df.rename(columns = {'1':'Datetime'})\n",
    "     return df\n",
    "#chamar a função\n",
    "#df = renomear_coluna(df)\n",
    "\n",
    "# #4) deixar no dataframe resultante apenas as colunas importantes \n",
    "def selecionar_colunas(df):\n",
    "    # Seleciona as colunas desejadas\n",
    "    colunas_desejadas = ['Timestamp', 'Datetime', 'Hop_count', 'Bottleneck', 'Link_bottleneck', 'Vazao']\n",
    "    \n",
    "    # Retorna o DataFrame apenas com essas colunas\n",
    "    return df[colunas_desejadas]\n",
    "\n",
    "#df= selecionar_colunas(df)"
   ]
  },
  {
   "cell_type": "code",
   "execution_count": 49,
   "metadata": {},
   "outputs": [],
   "source": [
    "import os\n",
    "def salvar_df_para_csv(df, caminho, nome_arquivo):\n",
    "    if not os.path.exists(caminho):\n",
    "        os.makedirs(caminho)\n",
    "    caminho_completo = os.path.join(caminho, nome_arquivo)\n",
    "\n",
    "    df.to_csv(caminho_completo, index=False)\n",
    "    \n",
    "    print(f\"DataFrame salvo em: {caminho_completo}\")\n"
   ]
  },
  {
   "cell_type": "code",
   "execution_count": 51,
   "metadata": {},
   "outputs": [
    {
     "name": "stdout",
     "output_type": "stream",
     "text": [
      "DataFrame salvo em: ../datasets/traceroute_vazao/cubic traceroute da vazao rj-rs.csv\n",
      "DataFrame salvo em: ../datasets/traceroute_vazao/cubic traceroute da vazao rj-sc.csv\n",
      "DataFrame salvo em: ../datasets/traceroute_vazao/bbr traceroute da vazao ac-am.csv\n",
      "DataFrame salvo em: ../datasets/traceroute_vazao/bbr traceroute da vazao ac-ap.csv\n"
     ]
    }
   ],
   "source": [
    "#fazer a parte iterativa \n",
    "pasta_raiz = '../datasets/alterados/saida'\n",
    "pasta_destino = '../datasets/traceroute_vazao'\n",
    "\n",
    "for subpasta in os.listdir(pasta_raiz):\n",
    "    caminho_subpasta = os.path.join(pasta_raiz, subpasta)\n",
    "    #print(caminho_subpasta)\n",
    "    # Verifica se o caminho é uma pasta\n",
    "    if os.path.isdir(caminho_subpasta):\n",
    "        #print(f\"Processando a pasta: {subpasta}\")\n",
    "        tcp = subpasta\n",
    "        # Itera sobre os arquivos CSV dentro da subpasta\n",
    "        for arquivo in os.listdir(caminho_subpasta):\n",
    "            if arquivo.endswith(\".csv\"):\n",
    "                caminho_arquivo = os.path.join(caminho_subpasta, arquivo)\n",
    "                #print(f\"  Lendo o arquivo: {arquivo}\")\n",
    "                # Lê o arquivo CSV\n",
    "                df = pd.read_csv(caminho_arquivo)\n",
    "                df['Hop_count'] = df.apply(contar_ocorrencias, axis=1)\n",
    "                df = substituir_prefixo(df)\n",
    "                df = aplicar_bottleneck(df, links)\n",
    "                df = renomear_coluna(df)\n",
    "                df= selecionar_colunas(df)\n",
    "                nome_csv = tcp+ ' '+ arquivo\n",
    "                salvar_df_para_csv(df, pasta_destino, nome_csv)\n",
    "\n",
    "\n"
   ]
  }
 ],
 "metadata": {
  "kernelspec": {
   "display_name": ".venv",
   "language": "python",
   "name": "python3"
  },
  "language_info": {
   "codemirror_mode": {
    "name": "ipython",
    "version": 3
   },
   "file_extension": ".py",
   "mimetype": "text/x-python",
   "name": "python",
   "nbconvert_exporter": "python",
   "pygments_lexer": "ipython3",
   "version": "3.10.12"
  }
 },
 "nbformat": 4,
 "nbformat_minor": 2
}
